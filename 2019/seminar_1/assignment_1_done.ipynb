{
 "cells": [
  {
   "cell_type": "markdown",
   "metadata": {},
   "source": [
    "# Assignment 1\n",
    "\n",
    "Using text http://www.gutenberg.org/files/2600/2600-0.txt\n",
    "1. Make text lowercase and remove all punctuation except spaces and dots.\n",
    "2. Tokenize text by BPE with vocab_size = 100\n",
    "3. Train 3-gram language model with laplace smoothing $\\delta=1$\n",
    "4. Using beam search with k=10 generate sequences of length=10 conditioned on provided inputs. Treat dots as terminal tokens.\n",
    "5. Calculate perplexity of the language model for the first sentence."
   ]
  },
  {
   "cell_type": "code",
   "execution_count": 1,
   "metadata": {},
   "outputs": [
    {
     "data": {
      "text/plain": [
       "3227579"
      ]
     },
     "execution_count": 1,
     "metadata": {},
     "output_type": "execute_result"
    }
   ],
   "source": [
    "text = open('peace.txt', 'r').read()[2:]\n",
    "len(text)"
   ]
  },
  {
   "cell_type": "code",
   "execution_count": 2,
   "metadata": {},
   "outputs": [],
   "source": [
    "# def preprocess_text(text):\n",
    "#     # make lowercase\n",
    "#     # replace all punctuation with spaces\n",
    "#     # collapse sequential spaces into one space '   ' -> ' '\n",
    "#     return text\n",
    "\n",
    "import string\n",
    "import re\n",
    "\n",
    "def preprocess_text(text):\n",
    "    text = text.lower()\n",
    "    for p in  \"@<>!?\\\"#%'&\\(\\)'*+,-:;=\\[\\]^_`\\{|\\}~“”—\\\\/$’‘\":\n",
    "        text = text.replace(p , ' ')\n",
    "#     text = re.sub(r\"[@<>!?\\\"#%'&\\(\\)'*+,-:;=\\[\\]^_`\\{|\\}~“”—\\\\]+\", \" \", text)\n",
    "    text = re.sub(r\"\\s+\", \" \", text)\n",
    "    return text\n",
    "\n",
    "text = preprocess_text(text)\n",
    "assert len(text) == 3141169"
   ]
  },
  {
   "cell_type": "code",
   "execution_count": 3,
   "metadata": {},
   "outputs": [],
   "source": [
    "text = text.split('.')\n",
    "text = [x.strip() for x in text]"
   ]
  },
  {
   "cell_type": "code",
   "execution_count": 4,
   "metadata": {
    "scrolled": true
   },
   "outputs": [],
   "source": [
    "from collections import Counter\n",
    "import nltk\n",
    "from sklearn.base import TransformerMixin\n",
    "\n",
    "\n",
    "class BPE(TransformerMixin):\n",
    "    def __init__(self, vocab_size=100):\n",
    "        super(BPE, self).__init__()\n",
    "        self.vocab_size = vocab_size\n",
    "        # index to token\n",
    "        self.itos = []\n",
    "        # token to index\n",
    "        self.stoi = {}\n",
    "        \n",
    "    def fit(self, text):\n",
    "        \"\"\"\n",
    "        convert text to a sequence of token ids\n",
    "        \"\"\"\n",
    "        self.itos = Counter()\n",
    "        for snt in text:\n",
    "            self.itos.update(snt)\n",
    "        self.itos = list(self.itos.keys())\n",
    "        self.stoi = dict(zip(self.itos, range(len(self.itos))))\n",
    "        text = [[self.stoi[x] for x in snt] for snt in text]\n",
    "        \n",
    "        while len(self.itos) < self.vocab_size:\n",
    "            bi_counter = Counter()\n",
    "            for snt in text:\n",
    "                bi_counter.update(nltk.bigrams(snt))\n",
    "            new_token = bi_counter.most_common()[0][0]\n",
    "            new_id = len(self.itos)\n",
    "            \n",
    "            self.itos.append(new_token)\n",
    "            self.stoi[new_token] = new_id\n",
    "            \n",
    "            result = []\n",
    "            for snt in text:\n",
    "                to_pass = False\n",
    "                new_snt = []\n",
    "                i = 0\n",
    "                while i < len(snt)-1:\n",
    "                    if (snt[i], snt[i+1]) == new_token:\n",
    "                        new_snt.append(new_id)\n",
    "                        i += 1\n",
    "                    else:\n",
    "                        new_snt.append(snt[i])\n",
    "                    i += 1\n",
    "                if i < len(snt):\n",
    "                    new_snt.append(snt[i])\n",
    "                result.append(new_snt)\n",
    "                    \n",
    "            text = result\n",
    "            \n",
    "        return self\n",
    "    \n",
    "    def transform(self, text):\n",
    "        \"\"\"\n",
    "        convert text to a sequence of token ids\n",
    "        \"\"\"\n",
    "        text = [[self.stoi[x] for x in snt] for snt in text]\n",
    "        for tok_id, tok in enumerate(self.itos):\n",
    "            result = []\n",
    "            for snt in text:\n",
    "                to_pass = False\n",
    "                new_snt = []\n",
    "                i = 0\n",
    "                while i < len(snt)-1:\n",
    "                    if (snt[i], snt[i+1]) == tok:\n",
    "                        new_snt.append(tok_id)\n",
    "                        i += 1\n",
    "                    else:\n",
    "                        new_snt.append(snt[i])\n",
    "                    i += 1\n",
    "                if i < len(snt):\n",
    "                    new_snt.append(snt[i])\n",
    "                result.append(new_snt)\n",
    "            text = result\n",
    "            \n",
    "        return text\n",
    "    \n",
    "    def decode_token(self, tok):\n",
    "        if isinstance(self.itos[tok], tuple):\n",
    "            return ''.join(map(self.decode_token, self.itos[tok]))\n",
    "        else:\n",
    "            return self.itos[tok]\n",
    "            \n",
    "    def decode(self, text):\n",
    "        \"\"\"\n",
    "        convert token ids into text\n",
    "        \"\"\"\n",
    "        return ''.join(map(self.decode_token, text))\n",
    "        \n",
    "        \n",
    "vocab_size = 100\n",
    "bpe = BPE(vocab_size)\n",
    "tokenized_text = bpe.fit_transform(text)"
   ]
  },
  {
   "cell_type": "code",
   "execution_count": 5,
   "metadata": {},
   "outputs": [],
   "source": [
    "assert bpe.decode(tokenized_text[0]) == text[0]"
   ]
  },
  {
   "cell_type": "code",
   "execution_count": 6,
   "metadata": {},
   "outputs": [],
   "source": [
    "import scipy.sparse as sp\n",
    "import numpy as np\n",
    "        \n",
    "    \n",
    "start_token = vocab_size\n",
    "end_token = vocab_size + 1\n",
    "        \n",
    "class LM:\n",
    "    def __init__(self, vocab_size, delta=1):\n",
    "        self.delta = delta\n",
    "        self.vocab_size = vocab_size + 2\n",
    "        self.proba = np.zeros((self.vocab_size, self.vocab_size, self.vocab_size))\n",
    "        \n",
    "    def infer(self, a, b, tau=1):\n",
    "        return np.array([self.get_proba(a, b, c, tau) for c in range(self.vocab_size)])\n",
    "        \n",
    "    def get_proba(self, a, b, c, tau=1):\n",
    "        \"\"\"\n",
    "        get probability of 3-gram (a,b,c)\n",
    "        \"\"\"\n",
    "        return ((self.proba[a,b,c] + self.delta) ** (1 / tau)) / (((self.proba[a,b, :] + self.delta) ** (1 / tau)).sum())\n",
    "    \n",
    "    def fit(self, text):\n",
    "        \"\"\"\n",
    "        train language model on text\n",
    "        \"\"\"\n",
    "        counter = Counter()\n",
    "        for snt in text:\n",
    "            counter.update(nltk.trigrams([start_token, start_token] + snt + [end_token]))\n",
    "        for (a,b,c), n in counter.most_common():\n",
    "            self.proba[a,b,c] += n\n",
    "        \n",
    "        return self\n",
    "    \n",
    "lm = LM(vocab_size, 1).fit(tokenized_text)"
   ]
  },
  {
   "cell_type": "code",
   "execution_count": 7,
   "metadata": {},
   "outputs": [],
   "source": [
    "def beam_search(input_seq, lm, max_len=10, k=5, tau=1):\n",
    "    \"\"\"\n",
    "    generate sequence from language model *lm* conditioned on input_seq\n",
    "    \"\"\"\n",
    "    \n",
    "    beam = [(input_seq, 0)]\n",
    "    for i in range(max_len):\n",
    "        candidates = []\n",
    "        candidates_proba = []\n",
    "        for snt, snt_proba in beam:\n",
    "            if snt[-1] == end_token:\n",
    "                candidates.append(snt)\n",
    "                candidates_proba.append(snt_proba)\n",
    "            else:    \n",
    "                proba = lm.infer(snt[-2], snt[-1], tau=tau)\n",
    "                best_k = np.argsort(-proba)[:k]\n",
    "\n",
    "                for tok in best_k:\n",
    "                    candidates.append(snt + [tok])\n",
    "                    candidates_proba.append(snt_proba + np.log(proba[tok]))    \n",
    "        best_candidates = np.argsort(-np.array(candidates_proba))[:k]\n",
    "        beam = [(candidates[j], candidates_proba[j]) for j in best_candidates]\n",
    "    return beam\n",
    "    "
   ]
  },
  {
   "cell_type": "code",
   "execution_count": 8,
   "metadata": {},
   "outputs": [
    {
     "name": "stdout",
     "output_type": "stream",
     "text": [
      "horse with a smill| -0.3796\n",
      "horse was not been s| -3.0868\n",
      "horse was sold not b| -3.8467\n",
      "horse when said no| -3.9335\n",
      "horse the cound him and | -4.3461\n",
      "horse the countess mar| -4.3873\n",
      "horse who had been s| -4.4334\n",
      "horse with his heas| -4.764\n",
      "horse with his fack| -4.8562\n",
      "horse the counderstand w| -4.8941\n"
     ]
    }
   ],
   "source": [
    "input1 = 'horse '\n",
    "input1 = bpe.transform([input1])[0]\n",
    "result = beam_search(input1, lm, max_len=10, k=10, tau=0.1)\n",
    "for snt, proba in result:\n",
    "    if snt[-1] == end_token:\n",
    "        snt = snt[:-1]\n",
    "    print(bpe.decode(snt) + '|', round(proba, 4))\n",
    "    "
   ]
  },
  {
   "cell_type": "code",
   "execution_count": 9,
   "metadata": {},
   "outputs": [
    {
     "name": "stdout",
     "output_type": "stream",
     "text": [
      "here with a smil| -0.3141\n",
      "here was not been | -2.9911\n",
      "here was sold not | -3.5954\n",
      "here when said n| -3.8679\n",
      "here with his fac| -4.1906\n",
      "here who had been | -4.3377\n",
      "here was she was not | -4.4389\n",
      "here was not seem| -4.6451\n",
      "here with his hea| -4.6961\n",
      "here with his hear| -4.8287\n"
     ]
    }
   ],
   "source": [
    "input1 = 'her'\n",
    "input1 = bpe.transform([input1])[0]\n",
    "result = beam_search(input1, lm, max_len=10, k=10, tau=0.1)\n",
    "for snt, proba in result:\n",
    "    if snt[-1] == end_token:\n",
    "        snt = snt[:-1]\n",
    "    print(bpe.decode(snt) + '|', round(proba, 4))"
   ]
  },
  {
   "cell_type": "code",
   "execution_count": 10,
   "metadata": {},
   "outputs": [
    {
     "name": "stdout",
     "output_type": "stream",
     "text": [
      "what| -3.7117\n",
      "whated| -4.4793\n",
      "whated to him| -8.4815\n",
      "what theight| -9.7693\n",
      "whated to himself| -10.9836\n",
      "whated to himself s| -11.9375\n",
      "whated to himself and | -12.0406\n",
      "whated to himself i| -12.0635\n",
      "what they with him | -12.1464\n",
      "whated to himself he | -12.1607\n"
     ]
    }
   ],
   "source": [
    "input1 = 'what'\n",
    "input1 = bpe.transform([input1])[0]\n",
    "result = beam_search(input1, lm, max_len=10, k=10, tau=1)\n",
    "for snt, proba in result:\n",
    "    if snt[-1] == end_token:\n",
    "        snt = snt[:-1]\n",
    "    print(bpe.decode(snt) + '|', round(proba, 4))"
   ]
  },
  {
   "cell_type": "code",
   "execution_count": 11,
   "metadata": {},
   "outputs": [
    {
     "name": "stdout",
     "output_type": "stream",
     "text": [
      "gun and with a smil| -1.4231\n",
      "gun been said no| -1.8174\n",
      "gun and said not be| -2.1749\n",
      "gun and so mussion | -2.5174\n",
      "gun but was not be| -3.2621\n",
      "gun and so must been| -3.4557\n",
      "gun said not been| -3.6806\n",
      "gun and said not se| -3.7806\n",
      "gun but was sold n| -3.9078\n",
      "gun and so musside | -4.1063\n"
     ]
    }
   ],
   "source": [
    "input1 = 'gun '\n",
    "input1 = bpe.transform([input1])[0]\n",
    "result = beam_search(input1, lm, max_len=10, k=10, tau=0.1)\n",
    "for snt, proba in result:\n",
    "    if snt[-1] == end_token:\n",
    "        snt = snt[:-1]\n",
    "    print(bpe.decode(snt) + '|', round(proba, 4))"
   ]
  },
  {
   "cell_type": "code",
   "execution_count": 12,
   "metadata": {},
   "outputs": [
    {
     "data": {
      "text/plain": [
       "13.366222407779398"
      ]
     },
     "execution_count": 12,
     "metadata": {},
     "output_type": "execute_result"
    }
   ],
   "source": [
    "def perplexity(snt, lm):\n",
    "    snt = [start_token, start_token] + snt + [end_token]\n",
    "    log_proba = np.mean([np.log(lm.get_proba(snt[i], snt[i+1], snt[i+2], tau=1)) for i in range(len(snt)-2)])\n",
    "    return np.exp(- log_proba)\n",
    "\n",
    "perplexity(tokenized_text[0], lm)"
   ]
  }
 ],
 "metadata": {
  "kernelspec": {
   "display_name": "Python 3",
   "language": "python",
   "name": "python3"
  },
  "language_info": {
   "codemirror_mode": {
    "name": "ipython",
    "version": 3
   },
   "file_extension": ".py",
   "mimetype": "text/x-python",
   "name": "python",
   "nbconvert_exporter": "python",
   "pygments_lexer": "ipython3",
   "version": "3.7.3"
  }
 },
 "nbformat": 4,
 "nbformat_minor": 2
}
