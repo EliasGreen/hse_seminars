{
 "cells": [
  {
   "cell_type": "markdown",
   "metadata": {},
   "source": [
    "# Assignment 7\n",
    "\n",
    "Train a Transformer model for Machine Translation from Russian to English.  \n",
    "Dataset: http://data.statmt.org/wmt18/translation-task/training-parallel-nc-v13.tgz   \n",
    "Hint: You may want to use subword tokenization   \n",
    "Score: corpus-bleu nltk.translate.bleu_score.corpus_bleu\n",
    "Use last 1000 sentences for model evalutation (test dataset). Use your target sequence tokenization for BLEU score. use max_len=50.   \n",
    "Hint: You may consider much smaller model, than shown in the example.  \n",
    "\n",
    "Baselines:  \n",
    "[4 point] BLEU = 0.10  \n",
    "[6 point] BLEU = 0.15\n",
    "[9 point] BLEU = 0.20  \n",
    "\n",
    "[1 point] Share weights between target embeddings and output dense layer. Notice, they have the same shape.\n",
    "\n",
    "\n",
    "Readings:\n",
    "1. BLUE score how to https://machinelearningmastery.com/calculate-bleu-score-for-text-python/\n",
    "1. Transformer code and comments http://nlp.seas.harvard.edu/2018/04/03/attention.html"
   ]
  },
  {
   "cell_type": "code",
   "execution_count": null,
   "metadata": {},
   "outputs": [],
   "source": []
  }
 ],
 "metadata": {
  "kernelspec": {
   "display_name": "Python 3",
   "language": "python",
   "name": "python3"
  },
  "language_info": {
   "codemirror_mode": {
    "name": "ipython",
    "version": 3
   },
   "file_extension": ".py",
   "mimetype": "text/x-python",
   "name": "python",
   "nbconvert_exporter": "python",
   "pygments_lexer": "ipython3",
   "version": "3.7.6"
  }
 },
 "nbformat": 4,
 "nbformat_minor": 4
}
