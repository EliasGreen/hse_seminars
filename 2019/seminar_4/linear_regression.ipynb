{
 "cells": [
  {
   "cell_type": "markdown",
   "metadata": {},
   "source": [
    "# Regularization in Linear models\n",
    "\n",
    "## Reading:\n",
    "\n",
    "1. GoodFellow. Deep Learning. p 245-252, 261-268\n",
    "2. Bishop. Pattern Recognition and Machine Learning p 140-146\n",
    "\n",
    "## Outline\n",
    "\n",
    "1. General Form, Polynomial Regression\n",
    "1. Analytic Solution\n",
    "1. SGD\n",
    "1. L2 regularization in linear models\n",
    "1. L2 regularization as stabilization of matrix inverse\n",
    "1. L2 regularization as gaussian prior on weights\n",
    "1. Equivance between L2 and early stopping\n",
    "1. L1 regularization and sparsity\n",
    "1. ElasticNet\n",
    "1. Pytorch and computational graphs"
   ]
  },
  {
   "cell_type": "markdown",
   "metadata": {},
   "source": [
    "# 1. Polynomial Regression\n",
    "\n",
    "Here we explore linear regression with MSE loss\n",
    "\n",
    "$$ L_{MSE}(y, \\hat y) = \\frac 1 N \\sum_{i=1}^N (y - \\hat y)^2$$\n",
    "\n",
    "Usually we write \n",
    "\n",
    "$$ \\hat y = w^T x + b$$\n",
    "where $w, b$ - model weights, and $b$ is called *intercept*\n",
    "\n",
    "For future convinience add $b$ into vector $x$  \n",
    "$$(x)^T \\rightarrow (1, x)^T $$\n",
    "$$ \\hat y = w^T x$$\n",
    "\n",
    "<img src=\"images/poly.jpg\" style=\"height:300px\">\n",
    "\n",
    "What if we can't approximate data with linear model?\n",
    "Use polynomial regression\n",
    "\n",
    "$$ \\phi_n(x) = (1, x, x^2, x^3, .., x^n)^T $$\n",
    "And this way can still use linear model\n",
    "$$ \\hat y = w^T \\phi_n(x)$$\n",
    "\n",
    "However, need to choose the right polynomial power\n",
    "\n",
    "<img src=\"images/poly2.png\" style=\"height:300px\">"
   ]
  },
  {
   "cell_type": "markdown",
   "metadata": {},
   "source": [
    "# 2. Analytic solution of linear regression\n",
    "\n",
    "$$ y = w^T X$$\n",
    "\n",
    "Let's find global minimum\n",
    "\n",
    "$$ L_{MSE}(y, X) = \\frac 1 N (y - Xw)^T (y - Xw) = \\\\\n",
    "\\frac 1 N (y^T - (Xw)^T) (y - Xw) = \\\\\n",
    "\\frac 1 N ( y^T y - y^T (Xw) - (Xw)^T y + (Xw)^T (Xw) ) = \\\\\n",
    "\\frac 1 N ( y^T y - 2 y^T (Xw) + (Xw)^T (Xw) )\n",
    "$$\n",
    "\n",
    "1. $ \\frac {\\partial (BA)} {\\partial A} = B^T$\n",
    "1. $ \\frac {\\partial (A^T B)} {\\partial A} = B$\n",
    "1. $ \\frac {\\partial (A^T A)} {\\partial A} = 2 A$\n",
    "1. $ \\frac {\\partial (A^T B A)} {\\partial A} = AB + A^T B$\n",
    "\n",
    "$$ \\frac {\\partial L_{MSE}} {\\partial w} = \\frac 1 N ( - 2 X^T y + 2 X^T X w ) = 0  $$\n",
    "\n",
    "$$ X^T X w = X^T y $$\n",
    "\n",
    "$$ w = (X^T X)^{-1} X^T y $$\n",
    "\n",
    "Properties of analytic solution depends on $(X^T X)^{-1}$\n",
    "Remember, that if $det(A) \\rightarrow 0$ then $A^{-1}$ is numerically unstable"
   ]
  },
  {
   "cell_type": "markdown",
   "metadata": {},
   "source": [
    "# 3 Iterative Solution by GD\n",
    "\n",
    "As we observed previously\n",
    "\n",
    "$$ \\nabla_{w} L_{MSE} = \\frac 1 N X^T (X w - y) $$\n",
    "\n",
    "1. $w^{(0)}$ = random init\n",
    "2. at time $t$  $w^{(t)} = w^{(t-1)} - \\alpha \\nabla_{w} L_{MSE}(w^{(t-1)}) $\n",
    "3. until convergence $ || \\nabla_{w} L_{MSE}(w^{(t-1)}) ||  < \\epsilon $ OR $ || w^{(t)} - w^{(t-1)} ||  < \\epsilon $  OR number of iterations exceeds predefined maximum\n",
    "\n",
    "\n",
    "* No issues of $(X^T X)^{-1}$ numeric stability!\n",
    "\n",
    "<img src=\"images/gd.png\" style=\"height:300px\">"
   ]
  },
  {
   "cell_type": "markdown",
   "metadata": {},
   "source": [
    "# 4 $L_2$ regularization in linear models\n",
    "\n",
    "General Form\n",
    "$$L_{reg}(y, X, w) = L(y, X) + \\lambda R(w)$$\n",
    "\n",
    "where $R(w)$ - regularization term\n",
    "$\\lambda$ - coef of regularization (regularization strength)\n",
    "\n",
    "In linear modes we usually use $L_p$  norm regularization:\n",
    "\n",
    "$$ R(w) = || w  ||_p^p $$\n",
    "\n",
    "For MSE with $L_2$ regularization\n",
    "\n",
    "$$L_{MSE} = \\frac 1 N || y - Xw ||_2^2 + \\frac {\\lambda} {2} ||w||_2^2$$\n",
    "\n",
    "$$ \\nabla_{w} L_{MSE} = \\frac 1 N X^T (X w - y)  + \\lambda w $$\n"
   ]
  },
  {
   "cell_type": "markdown",
   "metadata": {},
   "source": [
    "# 5 $L_2$ regularization as stabilization of matrix inverse\n",
    "\n",
    "From analytic solution we have\n",
    "\n",
    "$$ \\nabla_{w} L_{MSE} = \\frac 1 N X^T (X w - y) + \\lambda w = 0  $$\n",
    "\n",
    "Up to scaling factor $\\lambda$\n",
    "\n",
    "$$ \\nabla_{w} L_{MSE} = X^T (X w - y) + \\lambda w = 0  $$\n",
    "\n",
    "$$ (X^T X  + \\lambda I) w = X^T y $$\n",
    "$$ w = (X^T X + \\lambda I)^{-1} X^T y $$\n",
    "\n",
    "Thus we have stabilization of matrix inverse\n",
    "$$(X^T X)^{-1} \\rightarrow (X^T X + \\lambda I)^{-1} $$Also called Tihonov regularization. "
   ]
  },
  {
   "cell_type": "markdown",
   "metadata": {},
   "source": [
    "# 6 $L_2$ regularization as gaussian prior on weights\n",
    "\n",
    "Bayessian view\n",
    "\n",
    "We have samples $\\{ (x_i, y_i) \\}_{i=1}^N$ from some distribution $P(x,y)$\n",
    "\n",
    "Suppose \n",
    "$$ y_i = w^T x_i + \\epsilon$$, where\n",
    "$$ \\epsilon \\sim N(0, \\sigma^2) $$\n",
    "\n",
    "Thus we can construct likelihood function (remember MLE)\n",
    "$$ P(y_1,..,y_N | x_1, .., x_N) = \\prod_{i=1}^N N(y_i| w^T x_i, \\sigma^2)$$\n",
    "\n",
    "\n",
    "where $N(y_i| w^T x_i, \\sigma^2)$ is a gaussian distribution with mean $w^T x_i$ and variance $\\sigma^2$\n",
    "\n",
    "$ N(y_i| w^T x_i, \\sigma^2) = \\frac 1 {\\sqrt {2 \\pi \\sigma}} e^{- \\frac {(y_i - w^T x_i)^2} {2 \\sigma^2}}$\n",
    "\n",
    "\n",
    "And by imposing gaussian prior on weights $w \\sim N(0, \\lambda^{-1})$\n",
    "\n",
    "$$ P(y_1,..,y_N | x_1, .., x_N) = \\prod_{i=1}^N N(y_i| w^T x_i, \\sigma^2) N(w | 0, \\lambda^{-1})$$\n",
    "\n",
    "by MLE we would like to maximize\n",
    "\n",
    "$$ \\log \\prod_{i=1}^N N(y_i| w^T x_i, \\sigma^2) N(w | 0, \\lambda^{-1}) \\rightarrow \\max_{w} $$\n",
    "\n",
    "$$ \\sum_{i=1}^N \\log N(y_i| w^T x_i, \\sigma^2) + N * \\log N(w | 0, \\lambda^{-1}) \\rightarrow \\max_{w} $$\n",
    "\n",
    "$$ -\\sum_{i=1}^N \\log N(y_i| w^T x_i, \\sigma^2) - N * \\log N(w | 0, \\lambda^{-1}) \\rightarrow \\min_{w} $$\n",
    "\n",
    "$$ -\\sum_{i=1}^N (- \\frac 1 {2 \\sigma^2} (y_i - w^T x_i)^2) - N * (- \\frac 1 {2 \\lambda^{-1}}  w^T w) \\rightarrow \\min_{w} $$\n",
    "\n",
    "$$ \\frac 1 {N \\sigma^2} \\sum_{i=1}^N  (y_i - w^T x_i)^2 + \\frac \\lambda 2 w^T w \\rightarrow \\min_{w} $$\n",
    "\n",
    "Up to scaling factor $\\sigma^2$ we have familiar MSE loss with L2 regularization\n",
    "\n",
    "$$ \\frac 1 {N \\sigma^2} (y - Xw)^T(y-Xw) + \\frac \\lambda 2 ||w||_2^2 \\rightarrow \\min_{w} $$\n",
    "\n",
    "\n",
    "<img src=\"images/l2.png\" style=\"height:300px\">"
   ]
  },
  {
   "cell_type": "markdown",
   "metadata": {},
   "source": [
    "# 7 $L_2$ regularization and early stopping\n",
    "\n",
    "In Iterative solution we have mentioned some stopping criteria.\n",
    "We can imagine another one called *early stopping*:\n",
    "1. split data into train and validation subsets\n",
    "1. update model weights $w$ on train dataset\n",
    "1. keep track of the loss value on validation dataset\n",
    "1. if on several consecutive iterations values of the loss function on validation dataset grows, than overfitting is observed $\\rightarrow$ stop training\n",
    "\n",
    "It can be shown, that number of consecutive iterations before early stopping $\\tau$ can be expressed by coefficient of $L_2$ regularization $\\lambda$\n",
    "\n",
    "$$\\tau \\sim \\frac 1 {\\lambda}$$\n",
    "\n",
    "<img src=\"images/stop.png\" style=\"height:300px\">"
   ]
  },
  {
   "cell_type": "markdown",
   "metadata": {},
   "source": [
    "# 8 $L_1$ regularization and sparsity\n",
    "\n",
    "What if we use other norm for regularization?\n",
    "\n",
    "$$ R(w) = || w  ||_1 $$\n",
    "\n",
    "For MSE with $L_1$ regularization\n",
    "\n",
    "$$L_{MSE} = \\frac 1 N || y - Xw ||_2^2 + \\frac {\\lambda} {2} ||w||_1$$\n",
    "\n",
    "$$ \\nabla_{w} L_{MSE} = \\frac 1 N X^T (X w - y)  + \\lambda sign(w) $$\n",
    "\n",
    "* $L_1$ norm is not differentiable at $w = 0$, but can be lower bounded by surrogate gradients (just say $\\nabla_{w} R(0) \\in  [-1,1]$)\n",
    "* Gives sparse solutions: some of $w$ components are 0 \n",
    "\n",
    "* Bayesian view on $L_1$ norm regularizer is a Laplacian prior on weights $$ P(x | \\mu, b ) = \\frac 1 {2b} e^{- \\frac {| x - \\mu|} {b}}$$\n",
    "\n",
    "<img src=\"images/l1.png\" style=\"height:300px\">\n",
    "\n",
    "* $L_1$ can be used for feature selection\n",
    "\n",
    "\n",
    "* ! Remember, any $L_p$ norm regularization shifts optimal solution $w_{*}$ \n",
    "    For linear models, if we want to make predictions with feature selection\n",
    "    1. First, train linear model with $L_1$ regularizer and select features with $|w_i| > 0$\n",
    "    2. Second, on selected subset of features, train linear model $L_2$ and use it for final prediction\n",
    "    \n",
    "* ! Remember about situation with correlated features"
   ]
  },
  {
   "cell_type": "markdown",
   "metadata": {},
   "source": [
    "# 9 Elastic Net Regularization\n",
    "\n",
    "$$ L_{reg}(y, \\hat y, w) = L(y, \\hat y) + \\lambda_1 ||w||_1 + \\lambda_2 ||w||_2^2$$\n",
    "\n",
    "Usually we would like to have convex combination in the form\n",
    "\n",
    "$$ L_{reg}(y, \\hat y, w) = L(y, \\hat y) + \\lambda_1 ||w||_1 + (1 - \\lambda_1) ||w||_2^2$$\n",
    "\n",
    "\n",
    "<img src=\"images/reg.png\" style=\"height:300px\">"
   ]
  },
  {
   "cell_type": "markdown",
   "metadata": {},
   "source": [
    "# 10 Pytorch and Computational Graphs\n",
    "<img src=\"images/graph.jpg\" style=\"height:300px\">"
   ]
  },
  {
   "cell_type": "code",
   "execution_count": 4,
   "metadata": {},
   "outputs": [],
   "source": [
    "import numpy as np\n",
    "import matplotlib.pyplot as plt\n",
    "\n",
    "%matplotlib inline\n",
    "\n",
    "import torch\n",
    "from torch import nn\n",
    "from sklearn.datasets import make_regression\n",
    "from sklearn.preprocessing import scale"
   ]
  },
  {
   "cell_type": "code",
   "execution_count": 5,
   "metadata": {},
   "outputs": [
    {
     "data": {
      "text/plain": [
       "<matplotlib.collections.PathCollection at 0x1a21bdb650>"
      ]
     },
     "execution_count": 5,
     "metadata": {},
     "output_type": "execute_result"
    },
    {
     "data": {
      "image/png": "[encoded data removed]",
      "text/plain": [
       "<Figure size 432x288 with 1 Axes>"
      ]
     },
     "metadata": {
      "needs_background": "light"
     },
     "output_type": "display_data"
    }
   ],
   "source": [
    "# create dataset\n",
    "X, Y = make_regression(100, n_features=1, n_informative=1, noise=3, random_state=42)\n",
    "plt.scatter(X, Y)"
   ]
  },
  {
   "cell_type": "code",
   "execution_count": 7,
   "metadata": {},
   "outputs": [],
   "source": [
    "# convert numpy array to pytorch tensor.\n",
    "# dtype dose matter!\n",
    "\n",
    "X = torch.tensor(X).float()\n",
    "Y = torch.tensor(Y).view(-1,1).float()"
   ]
  },
  {
   "cell_type": "code",
   "execution_count": 13,
   "metadata": {},
   "outputs": [],
   "source": [
    "# all neural nets should be descendant of nn.Module \n",
    "\n",
    "class LinearRegressionModel(nn.Module):\n",
    "\n",
    "    def __init__(self, input_dim):\n",
    "\n",
    "        super(LinearRegressionModel, self).__init__() \n",
    "        \n",
    "        # weight initialization\n",
    "        w_init = np.random.randn(input_dim, 1)\n",
    "        b_init = np.random.randn(1)\n",
    "        \n",
    "        # trainable parameters\n",
    "        self.W = nn.Parameter(torch.tensor(w_init).float())\n",
    "        self.b = nn.Parameter(torch.tensor(b_init).float())\n",
    "\n",
    "    # forward pass\n",
    "    def forward(self, x):\n",
    "        # Here the forward pass is simply a linear function\n",
    "\n",
    "        out = torch.mm(X, self.W) + self.b\n",
    "        return out"
   ]
  },
  {
   "cell_type": "code",
   "execution_count": 19,
   "metadata": {},
   "outputs": [
    {
     "data": {
      "image/png": "[encoded data removed]",
      "text/plain": [
       "<Figure size 432x288 with 1 Axes>"
      ]
     },
     "metadata": {
      "needs_background": "light"
     },
     "output_type": "display_data"
    }
   ],
   "source": [
    "# feature dimension\n",
    "input_dim = X.shape[1]\n",
    "model = LinearRegressionModel(input_dim)\n",
    "\n",
    "# train routine\n",
    "def train(model, X, Y, learning_rate, epochs, alpha=1):\n",
    "    \"\"\"\n",
    "    X - feature matrix, tensor\n",
    "    Y - target values, tensor\n",
    "    learning_rate - step size for SGD\n",
    "    epochs - number of full passes over dataset\n",
    "    alphha - regularization parameter\n",
    "    \"\"\"\n",
    "    criterion = torch.nn.MSELoss()\n",
    "    optimizer = torch.optim.SGD(model.parameters(), lr = learning_rate)\n",
    "    \n",
    "    # training history\n",
    "    history = []\n",
    "    for epoch in range(epochs):\n",
    "\n",
    "        epoch +=1\n",
    "\n",
    "        # gradients should be cleared before  every iteration\n",
    "        optimizer.zero_grad()\n",
    "        \n",
    "        #forward to get predicted values\n",
    "        outputs = model.forward(X)\n",
    "        \n",
    "        # loss\n",
    "#         loss = criterion(outputs, Y)\n",
    "        \n",
    "        # L2 regularization\n",
    "        loss = criterion(outputs, Y)+ alpha/2 * torch.norm(model.W)**2\n",
    "        \n",
    "        # backward  propagation\n",
    "        loss.backward()# back props\n",
    "        \n",
    "        # step in the direction of the antigradient and update parameters\n",
    "        optimizer.step()\n",
    "        \n",
    "        # logging\n",
    "        history.append((epoch,loss.data.item()))\n",
    "        \n",
    "    return history\n",
    "\n",
    "\n",
    "history = train(model, X, Y, 0.001, epochs=2000, alpha=1)\n",
    "xx = list(map(lambda x: x[0], history))\n",
    "yy = list(map(lambda x: x[1], history))\n",
    "plt.plot(xx, yy)\n",
    "plt.xlabel('epoch')\n",
    "plt.ylabel('loss')\n",
    "plt.grid()"
   ]
  },
  {
   "cell_type": "code",
   "execution_count": 20,
   "metadata": {},
   "outputs": [
    {
     "data": {
      "text/plain": [
       "[<matplotlib.lines.Line2D at 0x1a236184d0>]"
      ]
     },
     "execution_count": 20,
     "metadata": {},
     "output_type": "execute_result"
    },
    {
     "data": {
      "image/png": "[encoded data removed]",
      "text/plain": [
       "<Figure size 432x288 with 1 Axes>"
      ]
     },
     "metadata": {
      "needs_background": "light"
     },
     "output_type": "display_data"
    }
   ],
   "source": [
    "# plot result\n",
    "\n",
    "ww = model.W[0,0].detach().numpy()\n",
    "bb = model.b[0].detach().numpy()\n",
    "ww, bb\n",
    "\n",
    "xx = X.numpy()\n",
    "yy = Y.numpy()\n",
    "plt.scatter(xx, yy, color='b')\n",
    "plt.plot(xx, ww*xx + bb, color='r')"
   ]
  }
 ],
 "metadata": {
  "kernelspec": {
   "display_name": "Python 3",
   "language": "python",
   "name": "python3"
  },
  "language_info": {
   "codemirror_mode": {
    "name": "ipython",
    "version": 3
   },
   "file_extension": ".py",
   "mimetype": "text/x-python",
   "name": "python",
   "nbconvert_exporter": "python",
   "pygments_lexer": "ipython3",
   "version": "3.7.4"
  },
  "widgets": {
   "state": {},
   "version": "1.1.2"
  }
 },
 "nbformat": 4,
 "nbformat_minor": 2
}
