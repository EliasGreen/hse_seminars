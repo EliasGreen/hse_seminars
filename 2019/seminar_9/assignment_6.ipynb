{
 "cells": [
  {
   "cell_type": "markdown",
   "metadata": {},
   "source": [
    "# Assignment 6\n",
    "\n",
    "[3 points] Delelop language model, which generates texts from wikipedia.   \n",
    "Use WikiText-2 dataset, also available in `torchtext.datasets`.  \n",
    "Use `sentencepiece` or `tokenizers` library for text tokenization. Pay attention to vocab size, probably subword tokens are better.    \n",
    "Your model should be autogressive RNN.  \n",
    "[1 point] Plot train and validation loss depending on the number of iterations of gradient decent.  \n",
    "[1 point] Try to use together (`sentencepiece` or `tokenizers`), `torchtext.datasets`, and `torchtext.data.BPTTIterator`  \n",
    "\n",
    "<img src=\"images/lm.jpg\" style=\"height:300px\">\n",
    "\n",
    "Text generation should be terminated when either max length is reached or terminal symbol is generated.  \n",
    "Explore several inference techniques:\n",
    "1. [1 point] Argmax\n",
    "1. [1 point] Beamsearch\n",
    "1. [1 point] Sampling from probabilty distribution with temperature\n",
    "1. [1 point] Nucleus sampling\n",
    "1. [1 point] Top-k sampling\n",
    "\n",
    "\n",
    "For every method you should provide implemented code and generated examples. Each example must contain at least 10 words (not subword tokens).\n",
    "\n",
    "Readings:\n",
    "https://arxiv.org/abs/1904.09751"
   ]
  },
  {
   "cell_type": "code",
   "execution_count": null,
   "metadata": {},
   "outputs": [],
   "source": []
  }
 ],
 "metadata": {
  "kernelspec": {
   "display_name": "Python 3",
   "language": "python",
   "name": "python3"
  },
  "language_info": {
   "codemirror_mode": {
    "name": "ipython",
    "version": 3
   },
   "file_extension": ".py",
   "mimetype": "text/x-python",
   "name": "python",
   "nbconvert_exporter": "python",
   "pygments_lexer": "ipython3",
   "version": "3.7.6"
  }
 },
 "nbformat": 4,
 "nbformat_minor": 2
}
