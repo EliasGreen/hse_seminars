{
 "cells": [
  {
   "cell_type": "markdown",
   "metadata": {},
   "source": [
    "# Assignment 5\n",
    "\n",
    "Build CNN model for sentiment analysis (binary classification) of IMDB Reviews (https://www.kaggle.com/utathya/imdb-review-dataset).\n",
    "You can use data with label=\"unsup\" for pretraining of embeddings. Here you are forbidden to use test dataset for pretraining of embeddings.  \n",
    "Your quality metric is accuracy score on test dataset. Look at \"type\" column for  train/test split.  \n",
    "You can use pretrained embeddings from external sources.  \n",
    "You have to provide data for trials with different hyperparameter values.  \n",
    "\n",
    "You have to beat following baselines:  \n",
    "[3 points] acc = 0.75  \n",
    "[5 points] acc = 0.8  \n",
    "[8 points] acc = 0.9  \n",
    "\n",
    "[2 points] for using unsupervised data  "
   ]
  }
 ],
 "metadata": {
  "kernelspec": {
   "display_name": "Python 3",
   "language": "python",
   "name": "python3"
  },
  "language_info": {
   "codemirror_mode": {
    "name": "ipython",
    "version": 3
   },
   "file_extension": ".py",
   "mimetype": "text/x-python",
   "name": "python",
   "nbconvert_exporter": "python",
   "pygments_lexer": "ipython3",
   "version": "3.7.5"
  }
 },
 "nbformat": 4,
 "nbformat_minor": 2
}
